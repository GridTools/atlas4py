{
 "cells": [
  {
   "cell_type": "code",
   "execution_count": 1,
   "metadata": {},
   "outputs": [],
   "source": [
    "import cppimport.import_hook\n",
    "import numpy as np\n",
    "\n",
    "#cppimport.force_rebuild(True)"
   ]
  },
  {
   "cell_type": "markdown",
   "metadata": {},
   "source": [
    "`cppimport` provides an easy way to compile C++ code. When you execute `import _atlas4py`, this will look for a file `_atlas4py.cpp` and import the file as given in there (check the include paths there!)"
   ]
  },
  {
   "cell_type": "code",
   "execution_count": 2,
   "metadata": {},
   "outputs": [],
   "source": [
    "import _atlas4py"
   ]
  },
  {
   "cell_type": "code",
   "execution_count": 23,
   "metadata": {},
   "outputs": [
    {
     "name": "stdout",
     "output_type": "stream",
     "text": [
      "_atlas4py.Grid({'domain': {'type': 'rectangular', 'units': 'degrees', 'xmax': 1.0, 'xmin': -1.0, 'ymax': 1.0, 'ymin': -1.0}, 'projection': {'type': 'lonlat'}, 'type': 'structured', 'xspace': {'N': 20, 'end': 1.0, 'endpoint': True, 'start': -1.0, 'type': 'linear'}, 'yspace': {'N': 21, 'end': 1.0, 'endpoint': True, 'start': -1.0, 'type': 'linear'}})\n",
      "<_atlas4py.functionspace.CellColumns object at 0x7f32bfd1efb0>\n"
     ]
    }
   ],
   "source": [
    "#grid = _atlas4py.StructuredGrid(\"L32x32\")\n",
    "#grid = _atlas4py.StructuredGrid(x_spacings=[_atlas4py.LinearSpacing(-1, 1, 21)]*15 + [_atlas4py.LinearSpacing(-1,  1, 15)]*6,\n",
    "#                                y_spacing=_atlas4py.LinearSpacing(-1, 1, 21))\n",
    "grid = _atlas4py.StructuredGrid(x_spacing=_atlas4py.LinearSpacing(-1, 1, 20),\n",
    "                                y_spacing=_atlas4py.LinearSpacing(-1, 1, 21))\n",
    "print(grid)\n",
    "mesh = _atlas4py.StructuredMeshGenerator().generate(grid)\n",
    "_atlas4py.build_edges(mesh)\n",
    "_atlas4py.build_node_to_edge_connectivity(mesh)\n",
    "fs = _atlas4py.functionspace.CellColumns(mesh)\n",
    "print(fs)"
   ]
  },
  {
   "cell_type": "code",
   "execution_count": 4,
   "metadata": {},
   "outputs": [],
   "source": [
    "out_f = fs.create_field(name=\"my_field\", levels=1, dtype=np.float64)\n",
    "in_f = fs.create_field(name=\"my_field\", levels=1, dtype=np.float64)"
   ]
  },
  {
   "cell_type": "markdown",
   "metadata": {},
   "source": [
    "You can create views on the atlas fields. Don't forget to pass `copy=False`! The views can be accessed like normal numpy arrays"
   ]
  },
  {
   "cell_type": "code",
   "execution_count": 5,
   "metadata": {},
   "outputs": [],
   "source": [
    "out_view = np.array(out_f, copy=False)\n",
    "in_view = np.array(in_f, copy=False)\n",
    "out_view[:] = in_view[:] = np.zeros_like(in_view)"
   ]
  },
  {
   "cell_type": "code",
   "execution_count": 6,
   "metadata": {},
   "outputs": [],
   "source": [
    "lonlat_view = np.array(mesh.nodes.lonlat, copy=False)\n",
    "lonlat0 = lonlat_view[0]\n",
    "lonlat1 = lonlat_view[-1]"
   ]
  },
  {
   "cell_type": "code",
   "execution_count": 7,
   "metadata": {},
   "outputs": [],
   "source": [
    "assert in_view.shape[1] == 1\n",
    "for cPos in range(mesh.cells.size):\n",
    "    nPos = mesh.cells.node_connectivity[cPos, 0]\n",
    "    center_lon = (lonlat_view[nPos, 0] - lonlat0[0] + (lonlat0[0] - lonlat1[0]) / 2)\n",
    "    center_lat = (lonlat_view[nPos, 1] - lonlat0[1] + (lonlat0[1] - lonlat1[1]) / 2)\n",
    "    in_view[cPos, 0] = 1 if abs(center_lon) < .5 and abs(center_lat) < .5 else 0\n",
    "    out_view[cPos, 0] = 0"
   ]
  },
  {
   "cell_type": "markdown",
   "metadata": {},
   "source": [
    "Now we also compile and import `computation.cpp`. Note that there is an absolute path to `gmsh` in here."
   ]
  },
  {
   "cell_type": "code",
   "execution_count": 8,
   "metadata": {},
   "outputs": [
    {
     "name": "stdout",
     "output_type": "stream",
     "text": [
      "rm: cannot remove 'out.msh': No such file or directory\r\n"
     ]
    }
   ],
   "source": [
    "!rm out.msh\n",
    "import computation\n",
    "with _atlas4py.Gmsh(\"out.msh\") as out:\n",
    "    out.write(mesh)\n",
    "    for i in range(100):\n",
    "        in_f.metadata[\"step\"] = i\n",
    "        out.write(in_f)\n",
    "        computation.run_computation(mesh, 1, in_f, out_f)\n",
    "        in_f, out_f = out_f, in_f\n",
    "!~/packages/gmsh/gmsh-4.4.1-Linux64/bin/gmsh out.msh "
   ]
  },
  {
   "cell_type": "markdown",
   "metadata": {},
   "source": [
    "# Learning about atlas..."
   ]
  },
  {
   "cell_type": "code",
   "execution_count": 9,
   "metadata": {},
   "outputs": [],
   "source": [
    "grid = _atlas4py.StructuredGrid(x_spacing=_atlas4py.LinearSpacing(-1, 1, 5),\n",
    "                                y_spacing=_atlas4py.LinearSpacing(-1, 1, 5))\n",
    "mesh = _atlas4py.StructuredMeshGenerator().generate(grid)\n",
    "_atlas4py.build_edges(mesh)\n",
    "_atlas4py.build_node_to_edge_connectivity(mesh)\n",
    "fs = _atlas4py.functionspace.CellColumns(mesh, halo=2)"
   ]
  },
  {
   "cell_type": "code",
   "execution_count": 10,
   "metadata": {},
   "outputs": [
    {
     "data": {
      "text/plain": [
       "16"
      ]
     },
     "execution_count": 10,
     "metadata": {},
     "output_type": "execute_result"
    }
   ],
   "source": [
    "mesh.cells.size"
   ]
  },
  {
   "cell_type": "code",
   "execution_count": 11,
   "metadata": {},
   "outputs": [
    {
     "data": {
      "text/plain": [
       "40"
      ]
     },
     "execution_count": 11,
     "metadata": {},
     "output_type": "execute_result"
    }
   ],
   "source": [
    "mesh.edges.size"
   ]
  },
  {
   "cell_type": "code",
   "execution_count": 12,
   "metadata": {},
   "outputs": [
    {
     "data": {
      "text/plain": [
       "25"
      ]
     },
     "execution_count": 12,
     "metadata": {},
     "output_type": "execute_result"
    }
   ],
   "source": [
    "mesh.nodes.size"
   ]
  },
  {
   "cell_type": "code",
   "execution_count": 13,
   "metadata": {},
   "outputs": [
    {
     "data": {
      "text/plain": [
       "array([[-1. , -1. ],\n",
       "       [-0.5, -1. ],\n",
       "       [ 0. , -1. ],\n",
       "       [ 0.5, -1. ],\n",
       "       [ 1. , -1. ],\n",
       "       [-1. , -0.5],\n",
       "       [-0.5, -0.5],\n",
       "       [ 0. , -0.5],\n",
       "       [ 0.5, -0.5],\n",
       "       [ 1. , -0.5],\n",
       "       [-1. ,  0. ],\n",
       "       [-0.5,  0. ],\n",
       "       [ 0. ,  0. ],\n",
       "       [ 0.5,  0. ],\n",
       "       [ 1. ,  0. ],\n",
       "       [-1. ,  0.5],\n",
       "       [-0.5,  0.5],\n",
       "       [ 0. ,  0.5],\n",
       "       [ 0.5,  0.5],\n",
       "       [ 1. ,  0.5],\n",
       "       [-1. ,  1. ],\n",
       "       [-0.5,  1. ],\n",
       "       [ 0. ,  1. ],\n",
       "       [ 0.5,  1. ],\n",
       "       [ 1. ,  1. ]])"
      ]
     },
     "execution_count": 13,
     "metadata": {},
     "output_type": "execute_result"
    }
   ],
   "source": [
    "lonlat_view = np.array(mesh.nodes.lonlat, copy=False)\n",
    "lonlat_view"
   ]
  },
  {
   "cell_type": "code",
   "execution_count": 14,
   "metadata": {},
   "outputs": [
    {
     "name": "stdout",
     "output_type": "stream",
     "text": [
      "number of blocks:  1\n",
      "\n",
      "block:  0\n",
      "40 x 2\n",
      "[[5, 0],\n",
      " [5, 6],\n",
      " [6, 1],\n",
      " [0, 1],\n",
      " [6, 7],\n",
      " [7, 2],\n",
      " [1, 2],\n",
      " [7, 8],\n",
      " [8, 3],\n",
      " [2, 3],\n",
      " [8, 9],\n",
      " [9, 4],\n",
      " [3, 4],\n",
      " [10, 5],\n",
      " [10, 11],\n",
      " [11, 6],\n",
      " [11, 12],\n",
      " [12, 7],\n",
      " [12, 13],\n",
      " [13, 8],\n",
      " [13, 14],\n",
      " [14, 9],\n",
      " [15, 10],\n",
      " [15, 16],\n",
      " [16, 11],\n",
      " [16, 17],\n",
      " [17, 12],\n",
      " [17, 18],\n",
      " [18, 13],\n",
      " [18, 19],\n",
      " [19, 14],\n",
      " [20, 15],\n",
      " [20, 21],\n",
      " [21, 16],\n",
      " [21, 22],\n",
      " [22, 17],\n",
      " [22, 23],\n",
      " [23, 18],\n",
      " [23, 24],\n",
      " [24, 19]]\n",
      "--- \n"
     ]
    }
   ],
   "source": [
    "import pprint\n",
    "print(\"number of blocks: \", mesh.edges.node_connectivity.blocks)\n",
    "\n",
    "for block in range(mesh.edges.node_connectivity.blocks):\n",
    "    print(\"\\nblock: \", block)\n",
    "    b = mesh.edges.node_connectivity.block(block)\n",
    "    print(\"{} x {}\".format(b.rows, b.cols))\n",
    "    pprint.pprint([[b[i, j] for j in range(b.cols)] for i in range(b.rows)])\n",
    "    print(\"--- \")\n"
   ]
  },
  {
   "cell_type": "markdown",
   "metadata": {},
   "source": [
    "The number of blocks are 2. If we build pole edges, these edges get into the second block."
   ]
  },
  {
   "cell_type": "code",
   "execution_count": 15,
   "metadata": {},
   "outputs": [
    {
     "name": "stdout",
     "output_type": "stream",
     "text": [
      "number of blocks:  2\n",
      "\n",
      "block:  0\n",
      "16 x 4\n",
      "[[0, 5, 6, 1],\n",
      " [1, 6, 7, 2],\n",
      " [2, 7, 8, 3],\n",
      " [3, 8, 9, 4],\n",
      " [5, 10, 11, 6],\n",
      " [6, 11, 12, 7],\n",
      " [7, 12, 13, 8],\n",
      " [8, 13, 14, 9],\n",
      " [10, 15, 16, 11],\n",
      " [11, 16, 17, 12],\n",
      " [12, 17, 18, 13],\n",
      " [13, 18, 19, 14],\n",
      " [15, 20, 21, 16],\n",
      " [16, 21, 22, 17],\n",
      " [17, 22, 23, 18],\n",
      " [18, 23, 24, 19]]\n",
      "--- \n",
      "\n",
      "block:  1\n",
      "0 x 3\n",
      "[]\n",
      "--- \n"
     ]
    }
   ],
   "source": [
    "print(\"number of blocks: \", mesh.cells.node_connectivity.blocks)\n",
    "\n",
    "for block in (0, 1):\n",
    "    print(\"\\nblock: \", block)\n",
    "    b = mesh.cells.node_connectivity.block(block)\n",
    "    print(\"{} x {}\".format(b.rows, b.cols))\n",
    "    pprint.pprint([[b[i, j] for j in range(b.cols)] for i in range(b.rows)])\n",
    "    print(\"--- \")\n"
   ]
  },
  {
   "cell_type": "code",
   "execution_count": 16,
   "metadata": {},
   "outputs": [
    {
     "name": "stdout",
     "output_type": "stream",
     "text": [
      "number of blocks:  2\n",
      "\n",
      "block:  0\n",
      "16 x 4\n",
      "[[1, 0, 2, 3],\n",
      " [4, 2, 5, 6],\n",
      " [7, 5, 8, 9],\n",
      " [10, 8, 11, 12],\n",
      " [14, 13, 15, 1],\n",
      " [16, 15, 17, 4],\n",
      " [18, 17, 19, 7],\n",
      " [20, 19, 21, 10],\n",
      " [23, 22, 24, 14],\n",
      " [25, 24, 26, 16],\n",
      " [27, 26, 28, 18],\n",
      " [29, 28, 30, 20],\n",
      " [32, 31, 33, 23],\n",
      " [34, 33, 35, 25],\n",
      " [36, 35, 37, 27],\n",
      " [38, 37, 39, 29]]\n",
      "--- \n",
      "\n",
      "block:  1\n",
      "0 x 3\n",
      "[]\n",
      "--- \n"
     ]
    }
   ],
   "source": [
    "print(\"number of blocks: \", mesh.cells.edge_connectivity.blocks)\n",
    "\n",
    "for block in range(mesh.cells.edge_connectivity.blocks):\n",
    "    print(\"\\nblock: \", block)\n",
    "    b = mesh.cells.edge_connectivity.block(block)\n",
    "    print(\"{} x {}\".format(b.rows, b.cols))\n",
    "    pprint.pprint([[b[i, j] for j in range(b.cols)] for i in range(b.rows)])\n",
    "    print(\"--- \")\n"
   ]
  },
  {
   "cell_type": "code",
   "execution_count": 17,
   "metadata": {},
   "outputs": [
    {
     "name": "stdout",
     "output_type": "stream",
     "text": [
      "[[0, 3],\n",
      " [2, 3, 6],\n",
      " [5, 6, 9],\n",
      " [8, 9, 12],\n",
      " [11, 12],\n",
      " [13, 1, 0],\n",
      " [15, 1, 4, 2],\n",
      " [17, 4, 7, 5],\n",
      " [19, 7, 10, 8],\n",
      " [21, 10, 11],\n",
      " [22, 14, 13],\n",
      " [24, 14, 16, 15],\n",
      " [26, 16, 18, 17],\n",
      " [28, 18, 20, 19],\n",
      " [30, 20, 21],\n",
      " [31, 23, 22],\n",
      " [33, 23, 25, 24],\n",
      " [35, 25, 27, 26],\n",
      " [37, 27, 29, 28],\n",
      " [39, 29, 30],\n",
      " [32, 31],\n",
      " [32, 34, 33],\n",
      " [34, 36, 35],\n",
      " [36, 38, 37],\n",
      " [38, 39]]\n"
     ]
    }
   ],
   "source": [
    "c = mesh.nodes.edge_connectivity\n",
    "pprint.pprint([[c[i, j] for j in range(c.cols(i))] for i in range(c.rows)])\n"
   ]
  },
  {
   "cell_type": "markdown",
   "metadata": {},
   "source": [
    "Test whether you can write different types into the metadata and get back the correct type."
   ]
  },
  {
   "cell_type": "code",
   "execution_count": 21,
   "metadata": {},
   "outputs": [
    {
     "name": "stdout",
     "output_type": "stream",
     "text": [
      "_atlas4py.Metadata({'bool': True, 'float': 3.12, 'global': False, 'int': 3, 'levels': 1, 'name': 'my_field', 'step': 98, 'str': 'x', 'variables': 0})\n",
      "True\n",
      "3\n",
      "3.12\n",
      "x\n",
      "_atlas4py.Metadata({'bool': True, 'float': 3.12, 'global': False, 'int': 3, 'levels': 1, 'name': 'my_field', 'step': 98, 'str': 'x', 'variables': 0})\n"
     ]
    }
   ],
   "source": [
    "print(in_f.metadata)\n",
    "\n",
    "in_f.metadata[\"bool\"] = True\n",
    "print(in_f.metadata[\"bool\"])\n",
    "\n",
    "in_f.metadata[\"int\"] = 3\n",
    "print(in_f.metadata[\"int\"])\n",
    "\n",
    "in_f.metadata[\"float\"] = 3.12\n",
    "print(in_f.metadata[\"float\"])\n",
    "\n",
    "in_f.metadata[\"str\"] = \"x\"\n",
    "print(in_f.metadata[\"str\"])\n",
    "\n",
    "print(in_f.metadata)"
   ]
  },
  {
   "cell_type": "code",
   "execution_count": null,
   "metadata": {},
   "outputs": [],
   "source": []
  }
 ],
 "metadata": {
  "@webio": {
   "lastCommId": "86f90460115044cd8439c7e0487f4981",
   "lastKernelId": "db7cb2c8-312c-4618-861c-02a91a6034e6"
  },
  "kernelspec": {
   "display_name": "Python 3",
   "language": "python",
   "name": "python3"
  },
  "language_info": {
   "codemirror_mode": {
    "name": "ipython",
    "version": 3
   },
   "file_extension": ".py",
   "mimetype": "text/x-python",
   "name": "python",
   "nbconvert_exporter": "python",
   "pygments_lexer": "ipython3",
   "version": "3.8.1"
  }
 },
 "nbformat": 4,
 "nbformat_minor": 2
}
